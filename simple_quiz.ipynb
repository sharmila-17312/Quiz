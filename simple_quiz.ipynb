{
  "nbformat": 4,
  "nbformat_minor": 0,
  "metadata": {
    "colab": {
      "provenance": []
    },
    "kernelspec": {
      "name": "python3",
      "display_name": "Python 3"
    },
    "language_info": {
      "name": "python"
    }
  },
  "cells": [
    {
      "cell_type": "code",
      "source": [
        "def run_quiz(questions):\n",
        "    score = 0\n",
        "    for question, answer in questions.items():\n",
        "        user_answer = input(question + \" \")\n",
        "        if user_answer.lower() == answer.lower():\n",
        "            score += 1\n",
        "            print(\"Correct!\")\n",
        "        else:\n",
        "            print(\"Wrong! The correct answer is:\", answer)\n",
        "    print(f\"You scored {score}/{len(questions)}.\")\n",
        "\n",
        "if __name__ == \"__main__\":\n",
        "    questions = {\n",
        "        \"What is the capital of France? \": \"Paris\",\n",
        "        \"What is 2 + 2? \": \"4\",\n",
        "        \"Who wrote 'Hamlet'? \": \"Shakespeare\",\n",
        "        \"What is national 'Bird'?\": \"Peacock\",\n",
        "        \"What is the capital of 'India'?\": \"New Delhi\",\n",
        "    }\n",
        "    run_quiz(questions)"
      ],
      "metadata": {
        "colab": {
          "base_uri": "https://localhost:8080/"
        },
        "id": "rD29KWEU1_Ad",
        "outputId": "5c0902d0-8cd1-4275-f436-d6b490204a51"
      },
      "execution_count": 6,
      "outputs": [
        {
          "output_type": "stream",
          "name": "stdout",
          "text": [
            "What is the capital of France?  Paris\n",
            "Correct!\n",
            "What is 2 + 2?  4\n",
            "Correct!\n",
            "Who wrote 'Hamlet'?  Shakespeare\n",
            "Correct!\n",
            "What is national 'Bird'? Peacock\n",
            "Correct!\n",
            "What is the capital of 'India'? New Delhi\n",
            "Correct!\n",
            "You scored 5/5.\n"
          ]
        }
      ]
    }
  ]
}